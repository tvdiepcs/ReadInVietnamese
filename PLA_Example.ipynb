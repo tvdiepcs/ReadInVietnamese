{
  "nbformat": 4,
  "nbformat_minor": 0,
  "metadata": {
    "colab": {
      "name": "Untitled0.ipynb",
      "provenance": [],
      "collapsed_sections": [],
      "authorship_tag": "ABX9TyP37dw7zFFeV68aSdTT9ANc",
      "include_colab_link": true
    },
    "kernelspec": {
      "name": "python3",
      "display_name": "Python 3"
    }
  },
  "cells": [
    {
      "cell_type": "markdown",
      "metadata": {
        "id": "view-in-github",
        "colab_type": "text"
      },
      "source": [
        "<a href=\"https://colab.research.google.com/github/tvdiepcs/ReadInVietnamese/blob/master/PLA_Example.ipynb\" target=\"_parent\"><img src=\"https://colab.research.google.com/assets/colab-badge.svg\" alt=\"Open In Colab\"/></a>"
      ]
    },
    {
      "cell_type": "code",
      "metadata": {
        "id": "LXjCpg_KfFBU",
        "colab_type": "code",
        "colab": {}
      },
      "source": [
        "import numpy as np\n",
        "def predict(w,X):\n",
        "  \"\"\"\n",
        "  predict label of each row of X, given w\n",
        "  X: a 2-d numpy array of shape(N,d), each row is a datapoint\n",
        "  w: a 1-d numpy array of shape(d)\n",
        "  \"\"\"\n",
        "  return np.sign(X.dot(w))"
      ],
      "execution_count": 0,
      "outputs": []
    },
    {
      "cell_type": "code",
      "metadata": {
        "id": "22H991lVc_3o",
        "colab_type": "code",
        "colab": {}
      },
      "source": [
        "def perceptron(X,y,w_init):\n",
        "  \"\"\"perform perceptron learning algorithm\n",
        "  X: a 2-d numpy array of shape(N,d), each row is a datapoint\n",
        "  Y: a 1-d numpy array of shape(N), label of each row of X.y[i]=1/-1\n",
        "  w_init: a 1-d numpy array of shape(d)\n",
        "  \"\"\"\n",
        "  w=w_init\n",
        "  while(True):\n",
        "    pred=predict(w,X)\n",
        "    #find indexes of misclassified points\n",
        "    mis_indxs=np.where(np.equal(pred,y)==False)[0]\n",
        "    print(np.where(np.equal(pred,y)==False))\n",
        "    print(mis_indxs)\n",
        "    #number of indexes of misclassified points\n",
        "    num_mis=mis_indxs.shape[0]\n",
        "    if num_mis==0: #no more misclassified point\n",
        "      return w\n",
        "    random_id=np.random.choice(mis_indxs,1)[0]\n",
        "    #update w\n",
        "    w=w+y[random_id]*X[random_id]\n",
        "  return w"
      ],
      "execution_count": 0,
      "outputs": []
    },
    {
      "cell_type": "code",
      "metadata": {
        "id": "kLXI3onYfX_i",
        "colab_type": "code",
        "outputId": "7819f26c-d32a-4472-b573-7ced26d6e966",
        "colab": {
          "base_uri": "https://localhost:8080/",
          "height": 170
        }
      },
      "source": [
        "mean=[[-1,0],[1,0]]\n",
        "cov=[[.3,.2],[.2,.3]]\n",
        "N=10\n",
        "X0=np.random.multivariate_normal(mean[0],cov,N)\n",
        "X1=np.random.multivariate_normal(mean[1],cov,N)\n",
        "X=np.concatenate((X0,X1),axis=0)\n",
        "y=np.concatenate((np.ones(N),-1*np.ones(N)))\n",
        "\n",
        "Xbar=np.concatenate((np.ones((2*N,1)), X), axis=1)\n",
        "w_init=np.random.randn(Xbar.shape[1])\n",
        "w=perceptron(Xbar,y,w_init)"
      ],
      "execution_count": 0,
      "outputs": [
        {
          "output_type": "stream",
          "text": [
            "(array([ 0,  1,  2,  3,  4,  5,  7,  8,  9, 10, 11, 12, 13, 14, 15, 16, 17,\n",
            "       18, 19]),)\n",
            "[ 0  1  2  3  4  5  7  8  9 10 11 12 13 14 15 16 17 18 19]\n",
            "(array([ 0,  1,  2,  3,  4,  5,  6,  7,  8,  9, 11, 12, 14, 15, 16, 17, 18]),)\n",
            "[ 0  1  2  3  4  5  6  7  8  9 11 12 14 15 16 17 18]\n",
            "(array([10, 13, 16, 19]),)\n",
            "[10 13 16 19]\n",
            "(array([], dtype=int64),)\n",
            "[]\n"
          ],
          "name": "stdout"
        }
      ]
    },
    {
      "cell_type": "code",
      "metadata": {
        "id": "vnXtAjNgghdG",
        "colab_type": "code",
        "outputId": "2b07e781-fb98-4c23-db93-9ec4e4b09d78",
        "colab": {
          "base_uri": "https://localhost:8080/",
          "height": 34
        }
      },
      "source": [
        "print(w)"
      ],
      "execution_count": 0,
      "outputs": [
        {
          "output_type": "stream",
          "text": [
            "[ 0.04913276 -2.56462026  2.14268333]\n"
          ],
          "name": "stdout"
        }
      ]
    },
    {
      "cell_type": "code",
      "metadata": {
        "id": "6P-UMgcCgPV-",
        "colab_type": "code",
        "outputId": "153efd89-6679-4114-b360-3f57d4ebdab3",
        "colab": {
          "base_uri": "https://localhost:8080/",
          "height": 34
        }
      },
      "source": [
        "arr=np.array([1,1,-1,1,-1,-1])\n",
        "arr1=np.array([-1,-1,1,1,1,-1])\n",
        "\n",
        "print(np.where(np.equal(arr,arr1)==True)[0])"
      ],
      "execution_count": 0,
      "outputs": [
        {
          "output_type": "stream",
          "text": [
            "[3 5]\n"
          ],
          "name": "stdout"
        }
      ]
    },
    {
      "cell_type": "code",
      "metadata": {
        "id": "CPH3deauhaCL",
        "colab_type": "code",
        "colab": {}
      },
      "source": [
        ""
      ],
      "execution_count": 0,
      "outputs": []
    }
  ]
}